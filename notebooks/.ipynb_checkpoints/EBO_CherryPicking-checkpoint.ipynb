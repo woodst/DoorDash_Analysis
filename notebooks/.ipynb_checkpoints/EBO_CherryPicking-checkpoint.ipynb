{
 "cells": [
  {
   "cell_type": "markdown",
   "id": "81abfab9-2265-42fe-bce7-4ccb814310e3",
   "metadata": {},
   "source": [
    "# Doordash Earn By Offer Cherry Picking\n",
    "\n",
    "## Overview\n",
    "Doordash has two primary earning models wherein delivery drivers (aka, \"Dashers\") receive an amount from Doordash, called Doordash pay, and tips from the customer.  The **Earn by Time** (EBT) model sets the amount of Doordash pay based on time spent during the delivery.  The **Earn By Offer** (EBO) model provides a fixed amount of Doordash pay for the delivery.  Dashers choose between the models when starting a dash, and the behavior of the platform, rules of engagement, and the affect on citical dasher statistics and earnings are all driven by this choice. In the dasher community there are many theories about Doordash algorithms, customer behavior, independant contractor status and the sovereingty it brings, and many other narratives that all take place in the absence of hard information.\n",
    "One such narrative is whether the EBT model is inferior to the EBO model.\n",
    "\n",
    "The chief difference between the EBT and EBO models is as follows:\n",
    "- EBO Dashers can see an up-front offer for a delivery and can choose to reject the offer if they don't like the amount.\n",
    "- EBT Dashers do not see an offer amount in advance, and can only reject one offer per hour.\n",
    "\n",
    "Several consequences flow from these models.  One major consequence is that EBT drivers cannot reject non-tipping customers because they lack the information and have limited rejection capabilities, and for EBO dashers, liberal ability to reject offers can lower their acceptance rate, which has consequences on the platform that include access to scheduling. Dashers have lore, and a rich social media presence, so a culture has emerged that promotes the idea of **Cherry Picking**, which means dashing in the EBO model and rejecting any offer that doesn't meet some set of criteria.  Belief attaches in the creation of this criteria.  Because information is kept deliberately sparse by Doordash, dashers create reasons for rejecting an offer.  These reasons are rife with confirmation bias, and extra effort is needed to combat this.\n",
    "\n",
    "This experiment seeks to generate solid data to use in answering several questions about Doordash, customer and order quality, and behavior when cherrypicking offers under EBO.  The full experiment plan can be found [[here]].\n",
    "\n",
    "\n"
   ]
  },
  {
   "cell_type": "markdown",
   "id": "6238eaec-bda1-4a90-857d-2271161ff005",
   "metadata": {},
   "source": [
    "### Setup"
   ]
  },
  {
   "cell_type": "code",
   "execution_count": 7,
   "id": "231684be-98ce-46ac-a38d-62f74ebe6e72",
   "metadata": {},
   "outputs": [],
   "source": [
    "library(tidyverse)"
   ]
  },
  {
   "cell_type": "markdown",
   "id": "b70d066b-694c-4ffa-9af9-bc58254ddec8",
   "metadata": {},
   "source": [
    "### Data"
   ]
  },
  {
   "cell_type": "code",
   "execution_count": 12,
   "id": "61fc61bb-55b6-4899-a11d-1cc773d1d910",
   "metadata": {},
   "outputs": [
    {
     "data": {
      "text/html": [
       "'/home/woodst/Documents/Data/Dropbox/Doordash/DoorDash_Analysis/data'"
      ],
      "text/latex": [
       "'/home/woodst/Documents/Data/Dropbox/Doordash/DoorDash\\_Analysis/data'"
      ],
      "text/markdown": [
       "'/home/woodst/Documents/Data/Dropbox/Doordash/DoorDash_Analysis/data'"
      ],
      "text/plain": [
       "[1] \"/home/woodst/Documents/Data/Dropbox/Doordash/DoorDash_Analysis/data\""
      ]
     },
     "metadata": {},
     "output_type": "display_data"
    }
   ],
   "source": [
    "# Set the working directory to the repository /data directory.\n",
    "setwd(\"../data\")\n",
    "getwd()"
   ]
  },
  {
   "cell_type": "code",
   "execution_count": 14,
   "id": "a4564722-51bb-4abf-a32b-fb0a997bc2a9",
   "metadata": {},
   "outputs": [
    {
     "name": "stdout",
     "output_type": "stream",
     "text": [
      "'data.frame':\t157 obs. of  30 variables:\n",
      " $ Experiment.Day      : int  1 1 1 1 1 1 1 1 1 1 ...\n",
      " $ X                   : int  1 2 3 4 5 6 7 8 9 10 ...\n",
      " $ Date                : chr  \"07/29/24\" \"07/29/24\" \"07/29/24\" \"07/29/24\" ...\n",
      " $ Time                : chr  \"17:30\" \"18:25\" \"18:25\" \"18:53\" ...\n",
      " $ Mileage.at.Offer    : int  220985 220999 220999 221004 221018 221023 221025 221027 221030 221034 ...\n",
      " $ Offer               : int  1 2 2 3 4 5 6 7 8 9 ...\n",
      " $ Delivery            : int  1 2 3 4 5 6 7 8 9 10 ...\n",
      " $ Offer..             : chr  \"16.75\" \"9.50\" \"0.00\" \"13.50\" ...\n",
      " $ Offer.Miles         : num  12 7.1 0 13.1 5.7 1.2 1.2 1.4 3.6 2.9 ...\n",
      " $ Provider            : chr  \"Safeway Floral\" \"Sonic\" \"Sonic\" \"KFC\" ...\n",
      " $ Provider.City       : chr  \"Pullman\" \"Moscow\" \"Moscow\" \"Moscow\" ...\n",
      " $ Arrival.at.Store    : chr  \"17:31\" \"18:30\" \"18:30\" \"18:57\" ...\n",
      " $ Return.With.Order   : chr  \"17:46\" \"18:37\" \"18:37\" \"19:00\" ...\n",
      " $ Customer.Address    : chr  \"652 Pavel Ct\" \"1551 N Polk Extension\" \"1881 E F St\" \"630 SW City View\" ...\n",
      " $ Multi.Family.Unit   : chr  \"na\" \"#3\" \"na\" \"na\" ...\n",
      " $ Destination.City    : chr  \"Moscow\" \"Moscow\" \"Moscow\" \"Pullman\" ...\n",
      " $ Arrival.at.Customer : chr  \"18:08\" \"18:41\" \"18:50\" \"19:21\" ...\n",
      " $ Return.From.Dropoff : chr  \"18:15\" \"18:44\" \"18:52\" \"19:23\" ...\n",
      " $ DDPAY               : num  16.75 2.5 0 5 2.75 ...\n",
      " $ DD.Peak             : num  NA NA NA NA NA NA NA NA NA NA ...\n",
      " $ TIP                 : num  0 3.5 3.5 8.5 4.5 3 1.5 2 3.94 3 ...\n",
      " $ Notes               : chr  \"Anomaly Off Pattern\" \"\" \"\" \"Outlier but interpreted as multiple rejections\" ...\n",
      " $ Offer.Type          : chr  \"A\" \"S\" \"HL\" \"C\" ...\n",
      " $ ORDER_CREATED_TIME  : chr  \"2024-07-29 22:53:38.256000000\" \"2024-07-30 00:44:14.317000000\" \"2024-07-30 01:23:23.976000000\" \"2024-07-30 01:24:33.030000000\" ...\n",
      " $ ACTUAL_PICKUP_TIME  : chr  \"2024-07-30 00:43:09.069000000\" \"2024-07-30 01:35:53.272000000\" \"2024-07-30 01:36:12.598000000\" \"2024-07-30 01:59:56.451000000\" ...\n",
      " $ ACTUAL_DELIVERY_TIME: chr  \"2024-07-30 01:15:01.576000000\" \"2024-07-30 01:43:12.909000000\" \"2024-07-30 01:51:47.072000000\" \"2024-07-30 02:22:27.868000000\" ...\n",
      " $ STORE_NAME          : chr  \"1-800 Flowers (430 Southeast Bishop Boulevard)\" \"Sonic Drive-In - 6678\" \"Sonic Drive-In - 6678\" \"KFC (L113009)\" ...\n",
      " $ TOTAL_ITEM_COUNT    : int  1 2 8 4 1 2 2 2 3 1 ...\n",
      " $ SUBTOTAL_IN_CENTS   : int  0 1436 4030 2804 1550 2290 2190 2598 0 1598 ...\n",
      " $ ORDER_STATUS        : chr  \"Order Delivered\" \"Order Delivered\" \"Order Delivered\" \"Order Delivered\" ...\n"
     ]
    }
   ],
   "source": [
    "# Load the data and look at the initial structure.\n",
    "data=read.csv(\"CherryPicking_CoreDeliveryData.csv\", header=TRUE)\n",
    "str(data)"
   ]
  },
  {
   "cell_type": "code",
   "execution_count": null,
   "id": "905143e4-c782-4f60-b095-8cda9c6f0667",
   "metadata": {},
   "outputs": [],
   "source": []
  }
 ],
 "metadata": {
  "kernelspec": {
   "display_name": "R",
   "language": "R",
   "name": "ir"
  },
  "language_info": {
   "codemirror_mode": "r",
   "file_extension": ".r",
   "mimetype": "text/x-r-source",
   "name": "R",
   "pygments_lexer": "r",
   "version": "4.4.1"
  }
 },
 "nbformat": 4,
 "nbformat_minor": 5
}
