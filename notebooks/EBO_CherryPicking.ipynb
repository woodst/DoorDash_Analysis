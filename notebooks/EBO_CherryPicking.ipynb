{
 "cells": [
  {
   "cell_type": "markdown",
   "id": "81abfab9-2265-42fe-bce7-4ccb814310e3",
   "metadata": {},
   "source": [
    "# Doordash Earn By Offer Cherry Picking\n",
    "\n",
    "## Overview\n",
    "Doordash has two primary earning models wherein delivery drivers (aka, \"Dashers\") receive an amount from Doordash, called Doordash pay, and tips from the customer.  The **Earn by Time** (EBT) model sets the amount of Doordash pay based on time spent during the delivery.  The **Earn By Offer** (EBO) model provides a fixed amount of Doordash pay for the delivery.  Dashers choose between the models when starting a dash, and the behavior of the platform, rules of engagement, and the affect on citical dasher statistics and earnings are all driven by this choice. In the dasher community there are many theories about Doordash algorithms, customer behavior, independant contractor status and the sovereingty it brings, and many other narratives that all take place in the absence of hard information.\n",
    "One such narrative is whether the EBT model is inferior to the EBO model.\n",
    "\n",
    "The chief difference between the EBT and EBO models is as follows:\n",
    "- EBO Dashers can see an up-front offer for a delivery and can choose to reject the offer if they don't like the amount.\n",
    "- EBT Dashers do not see an offer amount in advance, and can only reject one offer per hour.\n",
    "\n",
    "Several consequences flow from these models.  One major consequence is that EBT drivers cannot reject non-tipping customers because they lack the information and have limited rejection capabilities, and for EBO dashers, liberal ability to reject offers can lower their acceptance rate, which has consequences on the platform that include access to scheduling. Dashers have lore, and a rich social media presence, so a culture has emerged that promotes the idea of **Cherry Picking**, which means dashing in the EBO model and rejecting any offer that doesn't meet some set of criteria.  Belief attaches in the creation of this criteria.  Because information is kept deliberately sparse by Doordash, dashers create reasons for rejecting an offer.  These reasons are rife with confirmation bias, and extra effort is needed to combat this.\n",
    "\n",
    "This experiment seeks to generate solid data to use in answering several questions about Doordash, customer and order quality, and behavior when cherrypicking offers under EBO.  The full experiment plan can be found [[here]].\n",
    "\n",
    "## Methods\n",
    "The author is a part-time dasher who usually works using the EBT model.  We will call this person \"driver\". To conduct this experiment, the driver dashed by EBO for five weeks, from 2024.07.29 to 2024.08.28 - a duration of 5 weeks.  The driver used specific offer rejection criteria to determine whether to accept or reject an offer.  The detail of that criteria can be found in the full experiment plan (see above). A total of 18 dashing days were recorded. The driver kept screenshots of each offer, delivery, and pay results from the Dasher mobile app.  In addition to this electronic data, the driver kept a manual log of every delivery to capture information that Doordash does not offer from the Dasher app. Doordash provides dashers with the ability to request and download what Doordash calls a complete datasaet.  The driver requested this information, which provides order, pickup and delivery times in UTC, the names of providers (as passed via integrations) and the number of order items and the dollar amount of the order. All of these sources were combined into an electronic log kept in Libreoffice Calc, with additional annotations to characterize each delivery.  That log was exported as a CSV file to include in this analysis.  The remainder of this notebook includes these analyses.\n",
    "\n",
    "\n"
   ]
  },
  {
   "cell_type": "markdown",
   "id": "cc2f67da-f4e8-47c6-b00a-57e3775479a1",
   "metadata": {},
   "source": [
    "### Data Catalog\n",
    "#### CherryPicking_CoreDeliveryData.csv\n",
    "\n",
    "**Experiment.Day** The ordinal day of the dash during the experiment.\n",
    "\n",
    "**X** The ordinal delivery number\n",
    "\n",
    "**Date** The date of the delivery.\n",
    "\n",
    "**Time** The time in 24-hour form of when the offer was received.  Manually recorded by the driver at minute resolution.\n",
    "\n",
    "**Mileage.at.Offer** Odometer mileage at offer, manually recorded recorded by the driver.\n",
    "\n",
    "**Offer** Ordinal offer for the dash, manually recorded by the driver.\n",
    "\n",
    "**Delivery** Ordinal delivery for the dash, manually recorded by the driver.\n",
    "\n",
    "**Offer..** Amount offered by Doordash in the Dasher app, as captured by screenshot.\n",
    "\n",
    "**Offer.Miles** Mileage as supplied by Doordash in the Dasher app, as captured by screenshot.\n",
    "\n",
    "**Provider** The order provider (restaurant) as manually recorded by the driver.\n",
    "\n",
    "**Provider.city** Either Pullman, Wa or Moscow Id, the two cities that make up the driver's only available zone.\n",
    "\n",
    "**Arrival.at.Store** Time of arrival at the provider in 24 hr format as manually recorded by the driver.\n",
    "\n",
    "**Return.with.Order** Time the driver returned to the car with an order in 24 hr format, as manually recorded by the driver.\n",
    "\n",
    "**Customer.Address** Delivery address, as manually recorded by the driver.\n",
    "\n",
    "**Multi.Family.Unit** An apartment or unit number, NA for a single family home or business, as manually recorded by the driver.\n",
    "\n",
    "**Destination City** City of the delivery address, either Pullman Wa or Moscow Id, as manually recorded by the driver.\n",
    "\n",
    "**Arrival.at.Customer** Time of arrival at the delivery location in 24 hr format as manually recorded by the driver.\n",
    "\n",
    "**Return.from.Dropoff** Time of return to the car from dropping off the order, in 24 hr format as manually recorded by the driver.\n",
    "\n",
    "**DDPAY** Doordash pay amount, collected from screenshot.\n",
    "\n",
    "**DD.Peak** Doordash promotional peak pay, when promotions were active, as taken from screenshot.\n",
    "\n",
    "**TIP** Customer tip amount, as taken form screenshot.\n",
    "\n",
    "**Notes** Driver notes for anomaly, other unusual circumstances.\n",
    "\n",
    "**Offer.Type** Manual attribution of the offer type, per the following taxonomy:\n",
    "- **A** Anomolous delivery - something about the delivery makes it prudent to remove it from analyis\n",
    "- **C** Conventional Delivery\n",
    "- **S** A single delivery in a stacked offer\n",
    "- **HL** Host and Leach: A delivery in a stacked offer where Doordash does not issue any Doordash pay.\n",
    "- **HL+** Host and Leach: A delivey in a stacked offer where there is neither Doordash pay nor a customer tip.\n",
    "\n",
    "**ORDER_CREATED_TIME** Order creation time in UTC as supplied by driver's Doordash data request.\n",
    "\n",
    "**ACTUAL_PICKUP_TIME** Actual time in UTC that the driver clicked \"Confirm Pickup\" in the dasher app as supplied by driver's Doordash data request.\n",
    "\n",
    "**ACTUAL_DELIVERY_TIME** Actual time in UTC that the driver clicked \"Complete Delivery\" in the dasher app as supplied by driver's Doordash data request.\n",
    "\n",
    "**STORE_NAME** Doordash provider name as supplied by driver's Doordash data request.\n",
    "\n",
    "**TOTAL_ITEM_COUNT** Number of items in the order as supplied by driver's Doordash data request.\n",
    "\n",
    "**SUBTOTAL_IN_CENTS** Amount of the customer's order as supplied by driver's Doordash data request.\n",
    "\n",
    "**ORDER_STATUS** How the driver completed the order, as supplied by driver's Doordash data request."
   ]
  },
  {
   "cell_type": "markdown",
   "id": "6238eaec-bda1-4a90-857d-2271161ff005",
   "metadata": {},
   "source": [
    "### Setup"
   ]
  },
  {
   "cell_type": "code",
   "execution_count": 7,
   "id": "231684be-98ce-46ac-a38d-62f74ebe6e72",
   "metadata": {},
   "outputs": [],
   "source": [
    "library(tidyverse)"
   ]
  },
  {
   "cell_type": "markdown",
   "id": "b70d066b-694c-4ffa-9af9-bc58254ddec8",
   "metadata": {},
   "source": [
    "### Source Data"
   ]
  },
  {
   "cell_type": "code",
   "execution_count": 12,
   "id": "61fc61bb-55b6-4899-a11d-1cc773d1d910",
   "metadata": {},
   "outputs": [
    {
     "data": {
      "text/html": [
       "'/home/woodst/Documents/Data/Dropbox/Doordash/DoorDash_Analysis/data'"
      ],
      "text/latex": [
       "'/home/woodst/Documents/Data/Dropbox/Doordash/DoorDash\\_Analysis/data'"
      ],
      "text/markdown": [
       "'/home/woodst/Documents/Data/Dropbox/Doordash/DoorDash_Analysis/data'"
      ],
      "text/plain": [
       "[1] \"/home/woodst/Documents/Data/Dropbox/Doordash/DoorDash_Analysis/data\""
      ]
     },
     "metadata": {},
     "output_type": "display_data"
    }
   ],
   "source": [
    "# Set the working directory to the repository /data directory.\n",
    "setwd(\"../data\")\n",
    "getwd()"
   ]
  },
  {
   "cell_type": "code",
   "execution_count": 17,
   "id": "a4564722-51bb-4abf-a32b-fb0a997bc2a9",
   "metadata": {},
   "outputs": [
    {
     "name": "stdout",
     "output_type": "stream",
     "text": [
      "'data.frame':\t157 obs. of  30 variables:\n",
      " $ Experiment.Day      : int  1 1 1 1 1 1 1 1 1 1 ...\n",
      " $ X                   : int  1 2 3 4 5 6 7 8 9 10 ...\n",
      " $ Date                : chr  \"07/29/24\" \"07/29/24\" \"07/29/24\" \"07/29/24\" ...\n",
      " $ Time                : chr  \"17:30\" \"18:25\" \"18:25\" \"18:53\" ...\n",
      " $ Mileage.at.Offer    : int  220985 220999 220999 221004 221018 221023 221025 221027 221030 221034 ...\n",
      " $ Offer               : int  1 2 2 3 4 5 6 7 8 9 ...\n",
      " $ Delivery            : int  1 2 3 4 5 6 7 8 9 10 ...\n",
      " $ Offer..             : chr  \"16.75\" \"9.50\" \"0.00\" \"13.50\" ...\n",
      " $ Offer.Miles         : num  12 7.1 0 13.1 5.7 1.2 1.2 1.4 3.6 2.9 ...\n",
      " $ Provider            : chr  \"Safeway Floral\" \"Sonic\" \"Sonic\" \"KFC\" ...\n",
      " $ Provider.City       : chr  \"Pullman\" \"Moscow\" \"Moscow\" \"Moscow\" ...\n",
      " $ Arrival.at.Store    : chr  \"17:31\" \"18:30\" \"18:30\" \"18:57\" ...\n",
      " $ Return.With.Order   : chr  \"17:46\" \"18:37\" \"18:37\" \"19:00\" ...\n",
      " $ Customer.Address    : chr  \"652 Pavel Ct\" \"1551 N Polk Extension\" \"1881 E F St\" \"630 SW City View\" ...\n",
      " $ Multi.Family.Unit   : chr  \"na\" \"#3\" \"na\" \"na\" ...\n",
      " $ Destination.City    : chr  \"Moscow\" \"Moscow\" \"Moscow\" \"Pullman\" ...\n",
      " $ Arrival.at.Customer : chr  \"18:08\" \"18:41\" \"18:50\" \"19:21\" ...\n",
      " $ Return.From.Dropoff : chr  \"18:15\" \"18:44\" \"18:52\" \"19:23\" ...\n",
      " $ DDPAY               : num  16.75 2.5 0 5 2.75 ...\n",
      " $ DD.Peak             : num  NA NA NA NA NA NA NA NA NA NA ...\n",
      " $ TIP                 : num  0 3.5 3.5 8.5 4.5 3 1.5 2 3.94 3 ...\n",
      " $ Notes               : chr  \"Anomaly Off Pattern\" \"\" \"\" \"Outlier but interpreted as multiple rejections\" ...\n",
      " $ Offer.Type          : chr  \"A\" \"S\" \"HL\" \"C\" ...\n",
      " $ ORDER_CREATED_TIME  : chr  \"2024-07-29 22:53:38.256000000\" \"2024-07-30 00:44:14.317000000\" \"2024-07-30 01:23:23.976000000\" \"2024-07-30 01:24:33.030000000\" ...\n",
      " $ ACTUAL_PICKUP_TIME  : chr  \"2024-07-30 00:43:09.069000000\" \"2024-07-30 01:35:53.272000000\" \"2024-07-30 01:36:12.598000000\" \"2024-07-30 01:59:56.451000000\" ...\n",
      " $ ACTUAL_DELIVERY_TIME: chr  \"2024-07-30 01:15:01.576000000\" \"2024-07-30 01:43:12.909000000\" \"2024-07-30 01:51:47.072000000\" \"2024-07-30 02:22:27.868000000\" ...\n",
      " $ STORE_NAME          : chr  \"1-800 Flowers (430 Southeast Bishop Boulevard)\" \"Sonic Drive-In - 6678\" \"Sonic Drive-In - 6678\" \"KFC (L113009)\" ...\n",
      " $ TOTAL_ITEM_COUNT    : int  1 2 8 4 1 2 2 2 3 1 ...\n",
      " $ SUBTOTAL_IN_CENTS   : int  0 1436 4030 2804 1550 2290 2190 2598 0 1598 ...\n",
      " $ ORDER_STATUS        : chr  \"Order Delivered\" \"Order Delivered\" \"Order Delivered\" \"Order Delivered\" ...\n"
     ]
    }
   ],
   "source": [
    "# Load the data and look at the initial structure.\n",
    "cpdata=read.csv(\"CherryPicking_CoreDeliveryData.csv\", header=TRUE)\n",
    "str(cpdata)"
   ]
  },
  {
   "cell_type": "markdown",
   "id": "2e9a924f-c728-4d4d-87a3-48b04930e581",
   "metadata": {},
   "source": [
    "### Wrangling"
   ]
  },
  {
   "cell_type": "code",
   "execution_count": null,
   "id": "e5eb9d91-a128-49d7-8149-0128d1110320",
   "metadata": {},
   "outputs": [],
   "source": [
    "# Date conversion from string to date type\n"
   ]
  }
 ],
 "metadata": {
  "kernelspec": {
   "display_name": "R",
   "language": "R",
   "name": "ir"
  },
  "language_info": {
   "codemirror_mode": "r",
   "file_extension": ".r",
   "mimetype": "text/x-r-source",
   "name": "R",
   "pygments_lexer": "r",
   "version": "4.4.1"
  }
 },
 "nbformat": 4,
 "nbformat_minor": 5
}
